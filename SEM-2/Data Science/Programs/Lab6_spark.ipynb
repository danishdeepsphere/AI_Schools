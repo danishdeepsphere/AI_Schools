{
  "nbformat": 4,
  "nbformat_minor": 0,
  "metadata": {
    "colab": {
      "provenance": [],
      "authorship_tag": "ABX9TyNsISRgV5kYh6bUjN9EAwSa",
      "include_colab_link": true
    },
    "kernelspec": {
      "name": "python3",
      "display_name": "Python 3"
    },
    "language_info": {
      "name": "python"
    }
  },
  "cells": [
    {
      "cell_type": "markdown",
      "metadata": {
        "id": "view-in-github",
        "colab_type": "text"
      },
      "source": [
        "<a href=\"https://colab.research.google.com/github/danishdeepsphere/AI_Schools/blob/main/SEM-2/Data%20Science/Programs/Lab6_spark.ipynb\" target=\"_parent\"><img src=\"https://colab.research.google.com/assets/colab-badge.svg\" alt=\"Open In Colab\"/></a>"
      ]
    },
    {
      "cell_type": "code",
      "execution_count": 1,
      "metadata": {
        "colab": {
          "base_uri": "https://localhost:8080/"
        },
        "id": "vOVlwgMXDwh3",
        "outputId": "a295c435-ebcf-4114-ec57-1e229fb597b1"
      },
      "outputs": [
        {
          "output_type": "stream",
          "name": "stdout",
          "text": [
            "Looking in indexes: https://pypi.org/simple, https://us-python.pkg.dev/colab-wheels/public/simple/\n",
            "Collecting pyspark\n",
            "  Downloading pyspark-3.3.1.tar.gz (281.4 MB)\n",
            "\u001b[2K     \u001b[90m━━━━━━━━━━━━━━━━━━━━━━━━━━━━━━━━━━━━━━━\u001b[0m \u001b[32m281.4/281.4 MB\u001b[0m \u001b[31m4.1 MB/s\u001b[0m eta \u001b[36m0:00:00\u001b[0m\n",
            "\u001b[?25h  Preparing metadata (setup.py) ... \u001b[?25l\u001b[?25hdone\n",
            "Collecting py4j==0.10.9.5\n",
            "  Downloading py4j-0.10.9.5-py2.py3-none-any.whl (199 kB)\n",
            "\u001b[2K     \u001b[90m━━━━━━━━━━━━━━━━━━━━━━━━━━━━━━━━━━━━━━\u001b[0m \u001b[32m199.7/199.7 KB\u001b[0m \u001b[31m12.6 MB/s\u001b[0m eta \u001b[36m0:00:00\u001b[0m\n",
            "\u001b[?25hBuilding wheels for collected packages: pyspark\n",
            "  Building wheel for pyspark (setup.py) ... \u001b[?25l\u001b[?25hdone\n",
            "  Created wheel for pyspark: filename=pyspark-3.3.1-py2.py3-none-any.whl size=281845512 sha256=819df8449685bc60a8b3eea6745c7a5b96ee7be2b63df0e0d7bd4da8b181f50a\n",
            "  Stored in directory: /root/.cache/pip/wheels/43/dc/11/ec201cd671da62fa9c5cc77078235e40722170ceba231d7598\n",
            "Successfully built pyspark\n",
            "Installing collected packages: py4j, pyspark\n",
            "Successfully installed py4j-0.10.9.5 pyspark-3.3.1\n"
          ]
        }
      ],
      "source": [
        "pip install pyspark"
      ]
    },
    {
      "cell_type": "code",
      "source": [
        "from pyspark import SparkConf, SparkContext\n",
        "import pandas as pd\n",
        "\n",
        "# Set up the Spark configuration and context once \n",
        "conf = SparkConf().setAppName(\"SimilarityWordCount\")\n",
        "sc = SparkContext(conf=conf)"
      ],
      "metadata": {
        "id": "rTN5I_ElD40r"
      },
      "execution_count": 2,
      "outputs": []
    },
    {
      "cell_type": "code",
      "source": [
        "# Read in the documents as RDDs\n",
        "vAR_doc1 = sc.textFile(\"/content/demo.txt\")\n",
        "#word count\n",
        "\n",
        "# Perform word count on the documents\n",
        "vAR_wordCount1 = vAR_doc1.flatMap(lambda line: line.split(\" \")) \\\n",
        "                .map(lambda word: (word, 1)) \\\n",
        "                .reduceByKey(lambda a, b: a + b)\n",
        "\n",
        "# Print the result\n",
        "vAR_a=vAR_wordCount1.collect()\n",
        "vAR_unique_word_count=len(vAR_a)\n",
        "print(\"Unique word count : \",vAR_unique_word_count)\n",
        "co_of_each=[]\n",
        "for i in vAR_a:\n",
        "  co_of_each.append(i)\n",
        "print(co_of_each)"
      ],
      "metadata": {
        "colab": {
          "base_uri": "https://localhost:8080/"
        },
        "id": "ALbDtNO2Ei7A",
        "outputId": "33564bc6-ef3b-4ff1-ffc6-c748c76d20fa"
      },
      "execution_count": 3,
      "outputs": [
        {
          "output_type": "stream",
          "name": "stdout",
          "text": [
            "Unique word count :  77\n",
            "[('learning', 2), ('is', 1), ('of', 2), ('broader', 1), ('family', 1), ('machine', 2), ('based', 1), ('artificial', 1), ('neural', 4), ('networks', 2), ('representation', 1), ('learning.', 1), ('supervised,', 1), ('semi-supervised', 1), ('Deep-learning', 1), ('architectures', 1), ('as', 1), ('networks,', 3), ('belief', 1), ('reinforcement', 1), ('learning,', 1), ('recurrent', 1), ('convolutional', 1), ('Transformers', 1), ('have', 2), ('applied', 1), ('fields', 1), ('vision,', 1), ('speech', 1), ('recognition,', 1), ('language', 1), ('processing,', 1), ('bioinformatics,', 1), ('medical', 1), ('image', 1), ('climate', 1), ('material', 1), ('board', 1), ('where', 1), ('produced', 1), ('results', 1), ('comparable', 1), ('in', 1), ('cases', 1), ('human', 1), ('expert', 1), (\"'Deep\", 1), ('part', 1), ('a', 1), ('methods', 1), ('on', 1), ('with', 1), ('Learning', 1), ('can', 1), ('be', 1), ('or', 1), ('unsupervised.', 1), ('such', 1), ('deep', 3), ('and', 3), ('been', 1), ('to', 2), ('including', 1), ('computer', 1), ('natural', 1), ('translation,', 1), ('drug', 1), ('design,', 1), ('analysis,', 1), ('science,', 1), ('inspection', 1), ('game', 1), ('programs,', 1), ('they', 1), ('some', 1), ('surpassing', 1), (\"performance.'\", 1)]\n"
          ]
        }
      ]
    }
  ]
}